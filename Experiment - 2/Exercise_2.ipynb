{
  "nbformat": 4,
  "nbformat_minor": 0,
  "metadata": {
    "colab": {
      "name": "Exercise2.ipynb",
      "provenance": []
    },
    "kernelspec": {
      "name": "python3",
      "display_name": "Python 3"
    }
  },
  "cells": [
    {
      "cell_type": "markdown",
      "metadata": {
        "id": "KWw2-nRfmag7",
        "colab_type": "text"
      },
      "source": [
        "**Experiment No** : 2\n",
        "---\n",
        "**Date** : 24.08.2020\n",
        "\n",
        "**Write a program to classify data using the K-Nearest Neighbors algorithm in Python. Use breast cancer dataset from the sklearn.datasets module**"
      ]
    },
    {
      "cell_type": "code",
      "metadata": {
        "id": "boOcTlCmmWar",
        "colab_type": "code",
        "colab": {
          "base_uri": "https://localhost:8080/",
          "height": 34
        },
        "outputId": "51edfd29-5c05-4402-cb15-ccf85098a498"
      },
      "source": [
        "# Importing the libraries\n",
        "import numpy as np\n",
        "from sklearn.datasets import load_breast_cancer\n",
        "data_set = load_breast_cancer()\n",
        "x=data_set.data\n",
        "y=data_set.target\n",
        "\n",
        "# Splitting the dataset into the Training set and Test set\n",
        "from sklearn.model_selection import train_test_split\n",
        "X_train, X_test, y_train, y_test = train_test_split(x, y, test_size=0.25, random_state=25)\n",
        "\n",
        "# Feature Scaling\n",
        "from sklearn.preprocessing import StandardScaler\n",
        "sca = StandardScaler()\n",
        "X_train = sca.fit_transform(X_train)\n",
        "X_test = sca.transform(X_test)\n",
        "\n",
        "# Fitting K-NN to the Training set\n",
        "from sklearn.neighbors import KNeighborsClassifier\n",
        "classifier = KNeighborsClassifier(n_neighbors = 5, metric = 'minkowski', p = 2)\n",
        "classifier.fit(X_train, y_train)\n",
        "\n",
        "# Predicting the Test set results\n",
        "y_pred = classifier.predict(X_test)\n",
        "\n",
        "\n",
        "from sklearn.metrics import accuracy_score\n",
        "print(\"Accuracy Level :\",round(accuracy_score(y_test,y_pred),3))"
      ],
      "execution_count": 11,
      "outputs": [
        {
          "output_type": "stream",
          "text": [
            "Accuracy Level : 0.958\n"
          ],
          "name": "stdout"
        }
      ]
    },
    {
      "cell_type": "code",
      "metadata": {
        "id": "80aOon1LptRg",
        "colab_type": "code",
        "colab": {}
      },
      "source": [
        ""
      ],
      "execution_count": null,
      "outputs": []
    }
  ]
}