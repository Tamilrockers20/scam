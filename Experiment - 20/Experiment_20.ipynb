{
  "nbformat": 4,
  "nbformat_minor": 0,
  "metadata": {
    "colab": {
      "name": "Experiment - 20-(1718131).ipynb",
      "provenance": []
    },
    "kernelspec": {
      "name": "python3",
      "display_name": "Python 3"
    }
  },
  "cells": [
    {
      "cell_type": "code",
      "metadata": {
        "id": "iPbFuoxM7aZu",
        "outputId": "1fd5d8f4-b611-47f8-fe4a-4e0b2fcb6481",
        "colab": {
          "base_uri": "https://localhost:8080/",
          "height": 316
        }
      },
      "source": [
        "import numpy as np # linear algebra\n",
        "import pandas as pd # data processing\n",
        "import warnings\n",
        "import matplotlib.pyplot as plt    # basic plotting library\n",
        "import seaborn as sns  \n",
        "warnings.filterwarnings(\"ignore\")\n",
        "\n",
        "DataFrame = pd.read_csv(\"pulsar_stars.csv\")  \n",
        "DataFrame.head()\n",
        "\n",
        "labels = DataFrame.target_class.values\n",
        "DataFrame.drop([\"target_class\"],axis=1,inplace=True)\n",
        "features = DataFrame.values\n",
        "\n",
        "from sklearn.preprocessing import MinMaxScaler\n",
        "scaler = MinMaxScaler(feature_range=(0,1))\n",
        "features_scaled = scaler.fit_transform(features)\n",
        "\n",
        "from sklearn.model_selection import train_test_split\n",
        "x_train, x_test, y_train, y_test = train_test_split(features_scaled,labels,test_size=0.2)\n",
        "\n",
        "from sklearn.svm import SVC\n",
        "svm_model = SVC(random_state=42,C=250,gamma=1.6,kernel=\"poly\",probability=True)\n",
        "svm_model.fit(x_train,y_train)\n",
        "y_head_svm = svm_model.predict(x_test)\n",
        "svm_score = svm_model.score(x_test,y_test)\n",
        "\n",
        "from sklearn.metrics import confusion_matrix, accuracy_score\n",
        "print(\"Accuracy is:\", accuracy_score(y_head_svm, y_test))\n",
        "cm_svm = confusion_matrix(y_test,y_head_svm)\n",
        "plt.title(\"Support Vector Machine Confusion Matrix\")\n",
        "sns.heatmap(cm_svm,cbar=False,annot=True,cmap=\"CMRmap_r\",fmt=\"d\")"
      ],
      "execution_count": 1,
      "outputs": [
        {
          "output_type": "stream",
          "text": [
            "Accuracy is: 0.9826815642458101\n"
          ],
          "name": "stdout"
        },
        {
          "output_type": "execute_result",
          "data": {
            "text/plain": [
              "<matplotlib.axes._subplots.AxesSubplot at 0x7fc96f86ae48>"
            ]
          },
          "metadata": {
            "tags": []
          },
          "execution_count": 1
        },
        {
          "output_type": "display_data",
          "data": {
            "image/png": "[encoded data removed]",
            "text/plain": [
              "<Figure size 432x288 with 1 Axes>"
            ]
          },
          "metadata": {
            "tags": [],
            "needs_background": "light"
          }
        }
      ]
    },
    {
      "cell_type": "code",
      "metadata": {
        "id": "GSe7fz_E7y-_"
      },
      "source": [
        ""
      ],
      "execution_count": null,
      "outputs": []
    }
  ]
}