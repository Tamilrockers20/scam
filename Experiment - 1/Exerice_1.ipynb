{
  "nbformat": 4,
  "nbformat_minor": 0,
  "metadata": {
    "colab": {
      "name": "Exerice-1.ipynb",
      "provenance": []
    },
    "kernelspec": {
      "name": "python3",
      "display_name": "Python 3"
    }
  },
  "cells": [
    {
      "cell_type": "code",
      "metadata": {
        "id": "cJVBdSjVKUS5",
        "colab_type": "code",
        "colab": {
          "base_uri": "https://localhost:8080/",
          "height": 34
        },
        "outputId": "a7b304d4-2654-4839-8adf-565bb62b3d7c"
      },
      "source": [
        "import numpy as np\n",
        "import pandas as p\n",
        "\n",
        "\n",
        "d=p.read_csv('data_set.csv')\n",
        "X_axis=d.iloc[:,:-1].values\n",
        "y_axis=d.iloc[:,-1].values\n",
        "#print(X_axis[10:20],y_axis[10:20])\n",
        "\n",
        "\n",
        "from sklearn import preprocessing\n",
        "lb= preprocessing.LabelEncoder()\n",
        "X_axis[:,0]=lb.fit_transform(X_axis[:,0])\n",
        "X_axis[:,1]=lb.fit_transform(X_axis[:,1])\n",
        "#print(X_axis[0:10])\n",
        "\n",
        "from sklearn.model_selection import train_test_split\n",
        "X_train, X_test, y_train, y_test = train_test_split(X_axis, y_axis, test_size=0.35, random_state=42)\n",
        "\n",
        "from sklearn.naive_bayes import GaussianNB\n",
        "model=GaussianNB()\n",
        "model=model.fit(X_train,y_train)\n",
        "result=model.predict(X_test)\n",
        "\n",
        "from sklearn.metrics import accuracy_score\n",
        "print(\"Accuracy :\", accuracy_score(y_test, result))"
      ],
      "execution_count": 8,
      "outputs": [
        {
          "output_type": "stream",
          "text": [
            "Accuracy : 1.0\n"
          ],
          "name": "stdout"
        }
      ]
    },
    {
      "cell_type": "code",
      "metadata": {
        "id": "hZH0vK3tLs0D",
        "colab_type": "code",
        "colab": {}
      },
      "source": [
        ""
      ],
      "execution_count": null,
      "outputs": []
    }
  ]
}